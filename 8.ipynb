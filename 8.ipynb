{
 "cells": [
  {
   "cell_type": "code",
   "execution_count": 1,
   "metadata": {},
   "outputs": [],
   "source": [
    "import math \n",
    "\n",
    "def findmovecount(start, movestr, movedict, exitcondition):\n",
    "    movecount = 0\n",
    "    tomove = start\n",
    "    while not exitcondition(tomove):\n",
    "        left, right = movedict[tomove]\n",
    "        letter = movestr[movecount % len(movestr)]\n",
    "        if letter == \"L\":\n",
    "            tomove = left\n",
    "        else:\n",
    "            tomove = right\n",
    "        movecount += 1\n",
    "    \n",
    "    return movecount\n",
    "    \n",
    "def getmovedict(movesstr):\n",
    "    movedict = {}\n",
    "\n",
    "    for m in movesstr:\n",
    "        key = m.split(\" \")[0]\n",
    "        both = m.split(\" = \")[1].replace('(','').replace(')','').split(\", \")\n",
    "        movedict[key] = both\n",
    "\n",
    "    return movedict\n",
    "\n",
    "lines = open(\"8.txt\").read().split(\"\\n\")\n",
    "move = lines[0]\n"
   ]
  },
  {
   "cell_type": "code",
   "execution_count": 2,
   "metadata": {},
   "outputs": [
    {
     "data": {
      "text/plain": [
       "21883"
      ]
     },
     "execution_count": 2,
     "metadata": {},
     "output_type": "execute_result"
    }
   ],
   "source": [
    "#1\n",
    "d = getmovedict(lines[2:])\n",
    "\n",
    "findmovecount('AAA', move, d, lambda x: x == 'ZZZ')"
   ]
  },
  {
   "cell_type": "code",
   "execution_count": 3,
   "metadata": {},
   "outputs": [
    {
     "data": {
      "text/plain": [
       "([21883, 13019, 11911, 16897, 19667, 18559], 12833235391111)"
      ]
     },
     "execution_count": 3,
     "metadata": {},
     "output_type": "execute_result"
    }
   ],
   "source": [
    "#2\n",
    "lines = open(\"8.txt\").read().split(\"\\n\")\n",
    "\n",
    "move = lines[0]\n",
    "d = getmovedict(lines[2:])\n",
    "\n",
    "nums = []\n",
    "for tomove in [i for i in d.keys() if i.endswith('A')]:\n",
    "    nums.append(findmovecount(tomove, move, d, lambda x: x.endswith('Z')))\n",
    "\n",
    "nums, math.lcm(*nums)"
   ]
  }
 ],
 "metadata": {
  "kernelspec": {
   "display_name": "Python 3",
   "language": "python",
   "name": "python3"
  },
  "language_info": {
   "codemirror_mode": {
    "name": "ipython",
    "version": 3
   },
   "file_extension": ".py",
   "mimetype": "text/x-python",
   "name": "python",
   "nbconvert_exporter": "python",
   "pygments_lexer": "ipython3",
   "version": "3.9.6"
  }
 },
 "nbformat": 4,
 "nbformat_minor": 2
}
