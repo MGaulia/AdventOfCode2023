{
  "nbformat": 4,
  "nbformat_minor": 0,
  "metadata": {
    "colab": {
      "provenance": []
    },
    "kernelspec": {
      "name": "python3",
      "display_name": "Python 3"
    },
    "language_info": {
      "name": "python"
    }
  },
  "cells": [
    {
      "cell_type": "code",
      "execution_count": 53,
      "metadata": {
        "id": "A933vxzakoJ9"
      },
      "outputs": [],
      "source": [
        "def read():\n",
        "  return open(\"2.txt\", \"r\").read().split(\"\\n\")\n",
        "\n",
        "CUBESINBAG = {'red': 12, 'green': 13, 'blue': 14}\n",
        "def possible(maxshowndict):\n",
        "  for k, v in maxshowndict.items():\n",
        "    if k in CUBESINBAG and v > CUBESINBAG[k]:\n",
        "      return False\n",
        "\n",
        "  return True\n"
      ]
    },
    {
      "cell_type": "code",
      "source": [
        "games = read()\n",
        "\n",
        "result1 = 0\n",
        "result2 = 0\n",
        "for game in games:\n",
        "  maxforcolor = {}\n",
        "\n",
        "  gamename, sets = game.split(\": \")\n",
        "  sets = sets.split(\"; \")\n",
        "  for subset in sets:\n",
        "    turns = subset.split(\", \")\n",
        "    for turn in turns:\n",
        "      count, color = turn.split(\" \")\n",
        "      count = int(count)\n",
        "      if color in maxforcolor and count > maxforcolor[color]:\n",
        "        maxforcolor[color] = count\n",
        "      if color not in maxforcolor:\n",
        "        maxforcolor[color] = count\n",
        "\n",
        "  gameid = gamename.split(\" \")[1]\n",
        "\n",
        "  # 1 part\n",
        "  if possible(maxforcolor):\n",
        "    result1+= int(gameid)\n",
        "\n",
        "  # 2 part\n",
        "  temp = 1\n",
        "  for v in maxforcolor.values():\n",
        "    temp*=v\n",
        "  result2+=temp\n",
        "\n",
        "print(\"Result for 1st\", result1)\n",
        "print(\"Result for 2st\", result2)"
      ],
      "metadata": {
        "colab": {
          "base_uri": "https://localhost:8080/"
        },
        "id": "AwieYiIVk9Wb",
        "outputId": "2010f831-0d9e-49e7-ee0d-9aa53651f2b4"
      },
      "execution_count": 57,
      "outputs": [
        {
          "output_type": "stream",
          "name": "stdout",
          "text": [
            "Result for 1st 2727\n",
            "Result for 2st 56580\n"
          ]
        }
      ]
    }
  ]
}