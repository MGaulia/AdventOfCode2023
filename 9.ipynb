{
 "cells": [
  {
   "cell_type": "code",
   "execution_count": 41,
   "metadata": {},
   "outputs": [],
   "source": [
    "lines = [[int(j) for j in i.split()] for i in open(\"9.txt\").read().split(\"\\n\")]\n",
    "\n",
    "def allzeros(ls):\n",
    "    return ls == [0] * len(ls)\n",
    "\n",
    "def gettimelines(lines):\n",
    "    timelines = []\n",
    "    for line in lines:\n",
    "        timeline = []\n",
    "        while not allzeros(line):\n",
    "            timeline.append(line)\n",
    "            line = [j - i for i,j in zip(line, line[1:])]\n",
    "                \n",
    "        timelines.append(timeline[::-1])\n",
    "\n",
    "    return timelines\n",
    "    \n",
    "def getpredictions(timelines):\n",
    "    preds = []\n",
    "    for t in timelines:\n",
    "        last = t[0][0]\n",
    "        for nums in t[1:]:\n",
    "            last = nums[-1] + last\n",
    "\n",
    "        preds.append(last)\n",
    "\n",
    "    return preds"
   ]
  },
  {
   "cell_type": "code",
   "execution_count": 42,
   "metadata": {},
   "outputs": [
    {
     "data": {
      "text/plain": [
       "2043183816"
      ]
     },
     "execution_count": 42,
     "metadata": {},
     "output_type": "execute_result"
    }
   ],
   "source": [
    "# 1\n",
    "forward = True\n",
    "timelines = gettimelines(lines)\n",
    "sum(getpredictions(timelines))"
   ]
  },
  {
   "cell_type": "code",
   "execution_count": 43,
   "metadata": {},
   "outputs": [
    {
     "data": {
      "text/plain": [
       "1118"
      ]
     },
     "execution_count": 43,
     "metadata": {},
     "output_type": "execute_result"
    }
   ],
   "source": [
    "# 2\n",
    "forward = False\n",
    "timelines = gettimelines([i[::-1] for i in lines])\n",
    "sum(getpredictions(timelines))"
   ]
  }
 ],
 "metadata": {
  "kernelspec": {
   "display_name": "Python 3",
   "language": "python",
   "name": "python3"
  },
  "language_info": {
   "codemirror_mode": {
    "name": "ipython",
    "version": 3
   },
   "file_extension": ".py",
   "mimetype": "text/x-python",
   "name": "python",
   "nbconvert_exporter": "python",
   "pygments_lexer": "ipython3",
   "version": "3.9.6"
  }
 },
 "nbformat": 4,
 "nbformat_minor": 2
}
