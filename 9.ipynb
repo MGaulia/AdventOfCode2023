{
 "cells": [
  {
   "cell_type": "code",
   "execution_count": 1,
   "metadata": {},
   "outputs": [],
   "source": [
    "lines = [[int(j) for j in i.split()] for i in open(\"9.txt\").read().split(\"\\n\")]\n",
    "\n",
    "def allzeros(ls):\n",
    "    return ls == [0] * len(ls)\n",
    "\n",
    "def gettimelines(lines, forward):\n",
    "    timelines = []\n",
    "    for line in lines:\n",
    "        timeline = []\n",
    "        while not allzeros(line):\n",
    "            timeline.append(line)\n",
    "            both = zip(line, line[1:])\n",
    "            if forward:\n",
    "                line = [j - i for i,j in both]\n",
    "            else:\n",
    "                line = [i - j for i,j in both]\n",
    "                \n",
    "        timelines.append(timeline)\n",
    "\n",
    "    return timelines\n",
    "    \n",
    "def getpredictions(timelines, forward):\n",
    "    preds = []\n",
    "    for t in timelines:\n",
    "        t = t[::-1]\n",
    "        last = t[0][0]\n",
    "        t = t[1:]\n",
    "        for nums in t:\n",
    "            if forward:\n",
    "                last = nums[-1] + last\n",
    "            else:\n",
    "                last = nums[0] + last\n",
    "\n",
    "        preds.append(last)\n",
    "\n",
    "    return preds"
   ]
  },
  {
   "cell_type": "code",
   "execution_count": 2,
   "metadata": {},
   "outputs": [
    {
     "data": {
      "text/plain": [
       "2043183816"
      ]
     },
     "execution_count": 2,
     "metadata": {},
     "output_type": "execute_result"
    }
   ],
   "source": [
    "# 1\n",
    "forward = True\n",
    "timelines = gettimelines(lines, forward)\n",
    "sum(getpredictions(timelines, forward))\n"
   ]
  },
  {
   "cell_type": "code",
   "execution_count": 3,
   "metadata": {},
   "outputs": [
    {
     "data": {
      "text/plain": [
       "1118"
      ]
     },
     "execution_count": 3,
     "metadata": {},
     "output_type": "execute_result"
    }
   ],
   "source": [
    "# 2\n",
    "forward = False\n",
    "timelines = gettimelines(lines, forward)\n",
    "sum(getpredictions(timelines, forward))\n"
   ]
  }
 ],
 "metadata": {
  "kernelspec": {
   "display_name": "Python 3",
   "language": "python",
   "name": "python3"
  },
  "language_info": {
   "codemirror_mode": {
    "name": "ipython",
    "version": 3
   },
   "file_extension": ".py",
   "mimetype": "text/x-python",
   "name": "python",
   "nbconvert_exporter": "python",
   "pygments_lexer": "ipython3",
   "version": "3.9.6"
  }
 },
 "nbformat": 4,
 "nbformat_minor": 2
}
