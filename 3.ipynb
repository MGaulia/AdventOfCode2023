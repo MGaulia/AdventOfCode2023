{
  "cells": [
    {
      "cell_type": "code",
      "execution_count": 3,
      "metadata": {
        "colab": {
          "base_uri": "https://localhost:8080/"
        },
        "id": "AwieYiIVk9Wb",
        "outputId": "2010f831-0d9e-49e7-ee0d-9aa53651f2b4"
      },
      "outputs": [],
      "source": [
        "def read():\n",
        "  return open(\"data/4.txt\", \"r\").read().split(\"\\n\")"
      ]
    },
    {
      "cell_type": "code",
      "execution_count": 4,
      "metadata": {},
      "outputs": [
        {
          "data": {
            "text/plain": [
              "27454"
            ]
          },
          "execution_count": 4,
          "metadata": {},
          "output_type": "execute_result"
        }
      ],
      "source": [
        "#1\n",
        "lines = read()\n",
        "\n",
        "result = 0\n",
        "for line in lines:\n",
        "  points = 0\n",
        "  nums = line.split(\": \")[1]\n",
        "  lucky, mine = nums.split(\" | \")\n",
        "  lucky, mine = set(lucky.split()), mine.split()\n",
        "  for num in mine:\n",
        "    if num in lucky:\n",
        "      if points > 0:\n",
        "        points*=2\n",
        "      if points == 0:\n",
        "        points+=1\n",
        "  result+= points\n",
        "\n",
        "result"
      ]
    },
    {
      "cell_type": "code",
      "execution_count": 5,
      "metadata": {},
      "outputs": [
        {
          "name": "stdout",
          "output_type": "stream",
          "text": [
            "result 6857330\n"
          ]
        }
      ],
      "source": [
        "#2\n",
        "def newdict(maxkey, filler):\n",
        "    d = {}\n",
        "    for i in range(1, maxkey):\n",
        "        d[i] = filler\n",
        "    \n",
        "    return d\n",
        "    \n",
        "#2\n",
        "lines = read()\n",
        "\n",
        "matchnums = newdict(len(lines)+1, 0)\n",
        "\n",
        "for line in lines:\n",
        "  gamename, nums = line.split(\": \")\n",
        "  gamenum = int(gamename.split(\" \")[-1])\n",
        "  lucky, mine = nums.split(\" | \")\n",
        "  lucky, mine = set(lucky.split()), set(mine.split())\n",
        "  winnumcount = len(lucky.intersection(mine))\n",
        "  if winnumcount  != 0:\n",
        "    matchnums[gamenum] = winnumcount\n",
        "\n",
        "# print(\"matchnums\", matchnums)\n",
        "\n",
        "copys = newdict(len(lines)+1, 1)\n",
        "\n",
        "for card, count in matchnums.items():\n",
        "    for won in range(card + 1, card + count + 1):\n",
        "        # print(\"card\",card, \"->\",won,  matchnums)\n",
        "        copys[won]+=copys[card]\n",
        "\n",
        "# print(\"copys\", copys)\n",
        "\n",
        "result = sum(copys.values())\n",
        "\n",
        "print(\"result\", result)"
      ]
    }
  ],
  "metadata": {
    "colab": {
      "provenance": []
    },
    "kernelspec": {
      "display_name": "Python 3",
      "name": "python3"
    },
    "language_info": {
      "codemirror_mode": {
        "name": "ipython",
        "version": 3
      },
      "file_extension": ".py",
      "mimetype": "text/x-python",
      "name": "python",
      "nbconvert_exporter": "python",
      "pygments_lexer": "ipython3",
      "version": "3.9.6"
    }
  },
  "nbformat": 4,
  "nbformat_minor": 0
}
