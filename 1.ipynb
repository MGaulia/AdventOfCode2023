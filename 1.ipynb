{
  "nbformat": 4,
  "nbformat_minor": 0,
  "metadata": {
    "colab": {
      "provenance": []
    },
    "kernelspec": {
      "name": "python3",
      "display_name": "Python 3"
    },
    "language_info": {
      "name": "python"
    }
  },
  "cells": [
    {
      "cell_type": "code",
      "source": [
        "def read():\n",
        "  return open(\"data/1.txt\", \"r\").read().split(\"\\n\")\n",
        "\n",
        "def addToSum(line, sum):\n",
        "  numline = ''.join(i for i in line if i.isdigit())\n",
        "  lenline = len(numline)\n",
        "  if lenline == 1:\n",
        "    sum+=int(numline+numline)\n",
        "  if lenline >=2:\n",
        "    sum+=int(numline[0] + numline[-1])\n",
        "  return sum\n",
        "\n",
        "def replacenums(text):\n",
        "  return text.replace(\"one\",\"1e\").replace(\"two\",\"2o\").replace(\"three\",\"3\").replace(\"four\",\"4\").replace(\"five\",\"5\").replace(\"six\",\"6\").replace(\"seven\",\"7n\").replace(\"eight\",\"8t\").replace(\"nine\",\"9\")"
      ],
      "metadata": {
        "id": "jJAh0xa8Hc_6"
      },
      "execution_count": 18,
      "outputs": []
    },
    {
      "cell_type": "code",
      "source": [
        "#1\n",
        "lines = read()\n",
        "\n",
        "sum = 0\n",
        "for line in lines:\n",
        "  sum = addToSum(line, sum)\n",
        "\n",
        "sum"
      ],
      "metadata": {
        "colab": {
          "base_uri": "https://localhost:8080/"
        },
        "id": "3mivgiG0BCFs",
        "outputId": "baf17f66-c658-47a3-fb57-7fb546e5b016"
      },
      "execution_count": 19,
      "outputs": [
        {
          "output_type": "execute_result",
          "data": {
            "text/plain": [
              "54632"
            ]
          },
          "metadata": {},
          "execution_count": 19
        }
      ]
    },
    {
      "cell_type": "code",
      "source": [
        "#2\n",
        "\n",
        "lines = read()\n",
        "\n",
        "sum = 0\n",
        "for line in lines:\n",
        "\n",
        "  temp = \"\"\n",
        "  for letter in line:\n",
        "    temp+=letter\n",
        "    temp = replacenums(temp)\n",
        "\n",
        "  sum = addToSum(temp, sum)\n",
        "\n",
        "sum"
      ],
      "metadata": {
        "colab": {
          "base_uri": "https://localhost:8080/"
        },
        "id": "oVwLRr8xHcQk",
        "outputId": "232d9d52-0ce5-44dc-ba2b-cbb20fbf2cfc"
      },
      "execution_count": 20,
      "outputs": [
        {
          "output_type": "execute_result",
          "data": {
            "text/plain": [
              "54019"
            ]
          },
          "metadata": {},
          "execution_count": 20
        }
      ]
    }
  ]
}